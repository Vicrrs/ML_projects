{
 "cells": [
  {
   "cell_type": "code",
   "execution_count": 1,
   "metadata": {},
   "outputs": [],
   "source": [
    "import numpy as np\n",
    "import pandas as pd\n",
    "from sklearn.impute import SimpleImputer"
   ]
  },
  {
   "cell_type": "code",
   "execution_count": 2,
   "metadata": {},
   "outputs": [],
   "source": [
    "# base de dados de admissao de alunos pra classificar se ele é admitido numa pos\n",
    "db = pd.read_csv('/home/vicrrs/My_Projects/ML_projects/archives/admission.csv', delimiter=';')\n",
    "\n",
    "# conjunto de dados (variaveis independentes)\n",
    "X = db.iloc[:, :-1].values\n",
    "\n",
    "# rotulo dos dados (variavel dependente)\n",
    "y = db.iloc[:,-1].values"
   ]
  },
  {
   "cell_type": "code",
   "execution_count": 3,
   "metadata": {},
   "outputs": [],
   "source": [
    "imputer = SimpleImputer(missing_values=np.nan, strategy='median')\n",
    "imputer = imputer.fit_transform(X[:,1:])"
   ]
  },
  {
   "cell_type": "code",
   "execution_count": 4,
   "metadata": {},
   "outputs": [],
   "source": [
    "\"\"\"\n",
    "A classe LabelEncoder é usada para converter rótulos de texto ou categorias em números inteiros. \n",
    "Ela é comumente usada quando você tem dados categóricos que precisam ser transformados em uma forma \n",
    "que modelos de aprendizado de máquina possam entender\n",
    "\"\"\"\n",
    "from sklearn.preprocessing import LabelEncoder"
   ]
  },
  {
   "cell_type": "code",
   "execution_count": 5,
   "metadata": {},
   "outputs": [
    {
     "name": "stdout",
     "output_type": "stream",
     "text": [
      "[[6 337 118 4 4.5 4.5 9.65 1]\n",
      " [0 324 107 4 4.0 4.5 8.87 1]\n",
      " [5 316 104 3 3.0 3.5 8.0 1]\n",
      " [1 322 110 3 3.5 2.5 8.67 1]\n",
      " [8 314 103 2 2.0 3.0 8.21 0]\n",
      " [4 330 115 5 4.5 3.0 9.34 1]\n",
      " [3 321 109 3 3.0 4.0 8.2 1]\n",
      " [2 308 101 2 3.0 4.0 7.9 0]\n",
      " [7 302 102 1 2.0 1.5 8.0 0]]\n"
     ]
    }
   ],
   "source": [
    "labelencoder_X = LabelEncoder()\n",
    "X[:, 0] = labelencoder_X.fit_transform(X[:, 0]) # computa a parte de rotulos\n",
    "print(X)"
   ]
  },
  {
   "cell_type": "code",
   "execution_count": 6,
   "metadata": {},
   "outputs": [],
   "source": [
    "X = X[:,1:]"
   ]
  },
  {
   "cell_type": "code",
   "execution_count": 7,
   "metadata": {},
   "outputs": [],
   "source": [
    "# Valores decimais influencia no valor final do modelo, é melhor trocar para rotulos binarios(OneHotencode)\n",
    "D = pd.get_dummies(X[:,0]) # computando onehotencode\n",
    "X = np.insert(X, 0, D.values, axis=1) # Inserindo as colunas novas que a variavel binaria tras em X"
   ]
  },
  {
   "cell_type": "code",
   "execution_count": 8,
   "metadata": {},
   "outputs": [
    {
     "name": "stdout",
     "output_type": "stream",
     "text": [
      "[[False False False False False False False False True 337 118 4 4.5 4.5\n",
      "  9.65 1]\n",
      " [False False False False False False False True False 324 107 4 4.0 4.5\n",
      "  8.87 1]\n",
      " [False False False False True False False False False 316 104 3 3.0 3.5\n",
      "  8.0 1]\n",
      " [False False True False False False False False False 322 110 3 3.5 2.5\n",
      "  8.67 1]\n",
      " [False False False False False False True False False 314 103 2 2.0 3.0\n",
      "  8.21 0]\n",
      " [False False False True False False False False False 330 115 5 4.5 3.0\n",
      "  9.34 1]\n",
      " [False True False False False False False False False 321 109 3 3.0 4.0\n",
      "  8.2 1]\n",
      " [False False False False False True False False False 308 101 2 3.0 4.0\n",
      "  7.9 0]\n",
      " [True False False False False False False False False 302 102 1 2.0 1.5\n",
      "  8.0 0]]\n"
     ]
    }
   ],
   "source": [
    "print(X)"
   ]
  },
  {
   "cell_type": "code",
   "execution_count": 9,
   "metadata": {},
   "outputs": [
    {
     "name": "stdout",
     "output_type": "stream",
     "text": [
      "[[False False False False False False False True False 324 107 4 4.0 4.5\n",
      "  8.87 1]\n",
      " [False False True False False False False False False 322 110 3 3.5 2.5\n",
      "  8.67 1]\n",
      " [False False False False False False True False False 314 103 2 2.0 3.0\n",
      "  8.21 0]\n",
      " [False False False False False False False False True 337 118 4 4.5 4.5\n",
      "  9.65 1]\n",
      " [False False False False True False False False False 316 104 3 3.0 3.5\n",
      "  8.0 1]\n",
      " [False False False False False True False False False 308 101 2 3.0 4.0\n",
      "  7.9 0]\n",
      " [False False False True False False False False False 330 115 5 4.5 3.0\n",
      "  9.34 1]]\n"
     ]
    }
   ],
   "source": [
    "# Dividindo o conjunto de dados em dados de treino e teste\n",
    "from sklearn.model_selection import train_test_split\n",
    "\n",
    "Xtrain, Xtest, ytrain, ytest = train_test_split(X, y, test_size=0.2)\n",
    "\n",
    "print(Xtrain)"
   ]
  },
  {
   "cell_type": "code",
   "execution_count": null,
   "metadata": {},
   "outputs": [],
   "source": []
  }
 ],
 "metadata": {
  "kernelspec": {
   "display_name": "venv",
   "language": "python",
   "name": "python3"
  },
  "language_info": {
   "codemirror_mode": {
    "name": "ipython",
    "version": 3
   },
   "file_extension": ".py",
   "mimetype": "text/x-python",
   "name": "python",
   "nbconvert_exporter": "python",
   "pygments_lexer": "ipython3",
   "version": "3.10.12"
  },
  "orig_nbformat": 4
 },
 "nbformat": 4,
 "nbformat_minor": 2
}
